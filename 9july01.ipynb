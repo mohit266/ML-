{
  "nbformat": 4,
  "nbformat_minor": 0,
  "metadata": {
    "colab": {
      "name": "9july01.ipynb",
      "version": "0.3.2",
      "provenance": [],
      "collapsed_sections": []
    },
    "kernelspec": {
      "name": "python3",
      "display_name": "Python 3"
    }
  },
  "cells": [
    {
      "cell_type": "code",
      "metadata": {
        "id": "SRh-X74BVSXD",
        "colab_type": "code",
        "colab": {}
      },
      "source": [
        "# importing all the module required for CNN creation\n",
        "import keras"
      ],
      "execution_count": 0,
      "outputs": []
    },
    {
      "cell_type": "code",
      "metadata": {
        "id": "OsWGZONgXRZP",
        "colab_type": "code",
        "colab": {}
      },
      "source": [
        "# Convolution model\n",
        "from keras.layers import Convolution2D"
      ],
      "execution_count": 0,
      "outputs": []
    },
    {
      "cell_type": "code",
      "metadata": {
        "id": "NzRsGXAnX3fV",
        "colab_type": "code",
        "colab": {}
      },
      "source": [
        "# max polling\n",
        "from keras.layers import MaxPool2D"
      ],
      "execution_count": 0,
      "outputs": []
    },
    {
      "cell_type": "code",
      "metadata": {
        "id": "BBoCjM27YG8m",
        "colab_type": "code",
        "colab": {}
      },
      "source": [
        "# flantenning\n",
        "from keras.layers import Flatten"
      ],
      "execution_count": 0,
      "outputs": []
    },
    {
      "cell_type": "code",
      "metadata": {
        "id": "eXxBiw-GYXxw",
        "colab_type": "code",
        "colab": {}
      },
      "source": [
        "# ANN importing\n",
        "from keras.models import Sequential\n",
        "from keras.layers import Dense"
      ],
      "execution_count": 0,
      "outputs": []
    },
    {
      "cell_type": "code",
      "metadata": {
        "id": "erRFORCmYgC_",
        "colab_type": "code",
        "colab": {}
      },
      "source": [
        "# Classifier model\n",
        "model=Sequential()"
      ],
      "execution_count": 0,
      "outputs": []
    },
    {
      "cell_type": "code",
      "metadata": {
        "id": "0ZUu4KcGY9ln",
        "colab_type": "code",
        "outputId": "f70cb730-56e7-4759-ad44-9c4c5972a885",
        "colab": {
          "base_uri": "https://localhost:8080/",
          "height": 70
        }
      },
      "source": [
        "#creating convolution layer under model namespace\n",
        "model.add(Convolution2D(32,3,3,activation='relu',input_shape=(64,64,3))) \n",
        "# no. of features extract from original image during convolution -- 3,3 --activation , image dimension\n",
        "# when outcomes will be generated that will lead to feature maps"
      ],
      "execution_count": 0,
      "outputs": [
        {
          "output_type": "stream",
          "text": [
            "/usr/local/lib/python3.6/dist-packages/ipykernel_launcher.py:1: UserWarning: Update your `Conv2D` call to the Keras 2 API: `Conv2D(32, (3, 3), activation=\"relu\", input_shape=(64, 64, 3...)`\n",
            "  \"\"\"Entry point for launching an IPython kernel.\n"
          ],
          "name": "stderr"
        }
      ]
    },
    {
      "cell_type": "code",
      "metadata": {
        "id": "R7M7hYfDZiWu",
        "colab_type": "code",
        "colab": {}
      },
      "source": [
        "# now we can apply max pooling in features maps\n",
        "model.add(MaxPool2D(pool_size=(2,2)))"
      ],
      "execution_count": 0,
      "outputs": []
    },
    {
      "cell_type": "code",
      "metadata": {
        "id": "rAhXWsb9dcsK",
        "colab_type": "code",
        "colab": {}
      },
      "source": [
        "# here output will a subobject\n",
        "# then we can apply flatenning\n",
        "model.add(Flatten()) # we don't have to supply any parameter --- bcz data set columns convert so that we \n",
        "# can use this as input of ANN"
      ],
      "execution_count": 0,
      "outputs": []
    },
    {
      "cell_type": "code",
      "metadata": {
        "id": "sdcOnV3GeIJA",
        "colab_type": "code",
        "colab": {}
      },
      "source": [
        "# now we can give flatten output to input as ANN , first hidden layer or input layer\n",
        "model.add(Dense(128,activation='relu'))"
      ],
      "execution_count": 0,
      "outputs": []
    },
    {
      "cell_type": "code",
      "metadata": {
        "id": "Guo5FK4Aj0bg",
        "colab_type": "code",
        "colab": {}
      },
      "source": [
        "# output layer --- \n",
        "model.add(Dense(1,activation='sigmoid'))"
      ],
      "execution_count": 0,
      "outputs": []
    },
    {
      "cell_type": "code",
      "metadata": {
        "id": "j0DF1492l0mH",
        "colab_type": "code",
        "colab": {}
      },
      "source": [
        "# compile our ANN + CNN model\n"
      ],
      "execution_count": 0,
      "outputs": []
    },
    {
      "cell_type": "code",
      "metadata": {
        "id": "FY2bdWd-lfLr",
        "colab_type": "code",
        "colab": {}
      },
      "source": [
        "from keras.preprocessing.image import ImageDataGenerator"
      ],
      "execution_count": 0,
      "outputs": []
    },
    {
      "cell_type": "code",
      "metadata": {
        "id": "-afU2c_PkuX7",
        "colab_type": "code",
        "colab": {}
      },
      "source": [
        "# code for reading datasets from directory\n",
        "train_datagen = ImageDataGenerator(\n",
        "        rescale=1./255,\n",
        "        shear_range=0.2,\n",
        "        zoom_range=0.2,\n",
        "        horizontal_flip=True)\n",
        "\n",
        "test_datagen = ImageDataGenerator(rescale=1./255)\n",
        "\n",
        "train_generator = train_datagen.flow_from_directory(\n",
        "        '/home/mohit/Downloads/cats/catsdogs/training_set',\n",
        "        target_size=(150, 150),\n",
        "        batch_size=32,\n",
        "        class_mode='binary')\n",
        "\n",
        "validation_generator = test_datagen.flow_from_directory(\n",
        "        '/home/mohit/Downloads/cats/catsdogs/test_set',\n",
        "        target_size=(64, 64),\n",
        "        batch_size=32,\n",
        "        class_mode='binary')\n",
        "\n",
        "model.fit_generator(\n",
        "        train_generator,\n",
        "        steps_per_epoch=2000,\n",
        "        epochs=50,\n",
        "        validation_data=validation_generator,\n",
        "        validation_steps=800)\n"
      ],
      "execution_count": 0,
      "outputs": []
    },
    {
      "cell_type": "code",
      "metadata": {
        "id": "hnGQSQ2Jk4tw",
        "colab_type": "code",
        "colab": {}
      },
      "source": [
        ""
      ],
      "execution_count": 0,
      "outputs": []
    }
  ]
}