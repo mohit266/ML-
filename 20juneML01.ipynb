{
  "nbformat": 4,
  "nbformat_minor": 0,
  "metadata": {
    "colab": {
      "name": "20juneML01.ipynb",
      "version": "0.3.2",
      "provenance": [],
      "collapsed_sections": [],
      "include_colab_link": true
    },
    "kernelspec": {
      "name": "python3",
      "display_name": "Python 3"
    }
  },
  "cells": [
    {
      "cell_type": "markdown",
      "metadata": {
        "id": "view-in-github",
        "colab_type": "text"
      },
      "source": [
        "<a href=\"https://colab.research.google.com/github/mohit266/ML-/blob/master/20juneML01.ipynb\" target=\"_parent\"><img src=\"https://colab.research.google.com/assets/colab-badge.svg\" alt=\"Open In Colab\"/></a>"
      ]
    },
    {
      "cell_type": "code",
      "metadata": {
        "id": "CeJkFO7dfJB_",
        "colab_type": "code",
        "colab": {}
      },
      "source": [
        "import numpy as no\n",
        "import pandas as pd\n",
        "from sklearn.tree import DecisionTreeClassifier  # decisionTree classifier only"
      ],
      "execution_count": 0,
      "outputs": []
    },
    {
      "cell_type": "code",
      "metadata": {
        "id": "LzafoEPIfW45",
        "colab_type": "code",
        "colab": {}
      },
      "source": [
        "#this is for apple and orange\n",
        "# here smooth is for apple and bumpy is for orange\n",
        "features=[[100,0],[120,0],[130,1],[150,1]]\n",
        "## here 0 means smooth and 1 means bumpy"
      ],
      "execution_count": 0,
      "outputs": []
    },
    {
      "cell_type": "code",
      "metadata": {
        "id": "J06ysK7tfxMl",
        "colab_type": "code",
        "colab": {}
      },
      "source": [
        "# Now arrange accordingly\n",
        "label=[\"apple\",\"apple\",\"orange\",\"orange\"]"
      ],
      "execution_count": 0,
      "outputs": []
    },
    {
      "cell_type": "code",
      "metadata": {
        "id": "sBKOSbAThFKs",
        "colab_type": "code",
        "colab": {}
      },
      "source": [
        "# calling DecisionTree classifier\n",
        "clf=DecisionTreeClassifier()"
      ],
      "execution_count": 0,
      "outputs": []
    },
    {
      "cell_type": "code",
      "metadata": {
        "id": "fj61WjqYhNFm",
        "colab_type": "code",
        "colab": {}
      },
      "source": [
        "#now time for training data\n",
        "trained=clf.fit(features,label)"
      ],
      "execution_count": 0,
      "outputs": []
    },
    {
      "cell_type": "code",
      "metadata": {
        "id": "rGCt4ZYJh42j",
        "colab_type": "code",
        "colab": {
          "base_uri": "https://localhost:8080/",
          "height": 34
        },
        "outputId": "6c5e14a7-8932-4b71-8934-1a910111ad43"
      },
      "source": [
        "# now predicting\n",
        "trained.predict([[123,1]])"
      ],
      "execution_count": 21,
      "outputs": [
        {
          "output_type": "execute_result",
          "data": {
            "text/plain": [
              "array(['apple'], dtype='<U6')"
            ]
          },
          "metadata": {
            "tags": []
          },
          "execution_count": 21
        }
      ]
    },
    {
      "cell_type": "code",
      "metadata": {
        "id": "mt4xnNf_i5nJ",
        "colab_type": "code",
        "colab": {}
      },
      "source": [
        ""
      ],
      "execution_count": 0,
      "outputs": []
    }
  ]
}