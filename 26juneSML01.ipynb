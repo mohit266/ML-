{
  "nbformat": 4,
  "nbformat_minor": 0,
  "metadata": {
    "colab": {
      "name": "26juneSML01.ipynb",
      "version": "0.3.2",
      "provenance": [],
      "collapsed_sections": []
    },
    "kernelspec": {
      "name": "python3",
      "display_name": "Python 3"
    }
  },
  "cells": [
    {
      "cell_type": "code",
      "metadata": {
        "id": "DQTQmqEuLbQY",
        "colab_type": "code",
        "colab": {}
      },
      "source": [
        "from sklearn.datasets import load_digits"
      ],
      "execution_count": 0,
      "outputs": []
    },
    {
      "cell_type": "code",
      "metadata": {
        "id": "jXgz5VqiMFC2",
        "colab_type": "code",
        "colab": {}
      },
      "source": [
        "#loading digit data\n",
        "digit=load_digits()"
      ],
      "execution_count": 0,
      "outputs": []
    },
    {
      "cell_type": "code",
      "metadata": {
        "id": "BFci6E0oMPJs",
        "colab_type": "code",
        "outputId": "2233a563-2bb3-4fd1-b9bd-3761a4e3183c",
        "colab": {
          "base_uri": "https://localhost:8080/",
          "height": 34
        }
      },
      "source": [
        "#desc\n",
        "dir(digit)"
      ],
      "execution_count": 4,
      "outputs": [
        {
          "output_type": "execute_result",
          "data": {
            "text/plain": [
              "['DESCR', 'data', 'images', 'target', 'target_names']"
            ]
          },
          "metadata": {
            "tags": []
          },
          "execution_count": 4
        }
      ]
    },
    {
      "cell_type": "code",
      "metadata": {
        "id": "LD6xZhBCMSeW",
        "colab_type": "code",
        "colab": {}
      },
      "source": [
        "# features\n",
        "features=digit.data"
      ],
      "execution_count": 0,
      "outputs": []
    },
    {
      "cell_type": "code",
      "metadata": {
        "id": "p6eoiMnOMU_o",
        "colab_type": "code",
        "colab": {}
      },
      "source": [
        "# label\n",
        "label=digit.target"
      ],
      "execution_count": 0,
      "outputs": []
    },
    {
      "cell_type": "code",
      "metadata": {
        "id": "bRvfVFNB3Baa",
        "colab_type": "code",
        "colab": {}
      },
      "source": [
        "# training and testing\n",
        "from sklearn.model_selection import train_test_split\n",
        "X,x,Y,y=train_test_split(features,label,test_size=0.2)"
      ],
      "execution_count": 0,
      "outputs": []
    },
    {
      "cell_type": "code",
      "metadata": {
        "id": "Ku2J2jjW3LWk",
        "colab_type": "code",
        "colab": {}
      },
      "source": [
        "# data visualize\n",
        "import matplotlib.pyplot as plt"
      ],
      "execution_count": 0,
      "outputs": []
    },
    {
      "cell_type": "code",
      "metadata": {
        "id": "5GA2LNu33WyN",
        "colab_type": "code",
        "colab": {
          "base_uri": "https://localhost:8080/",
          "height": 286
        },
        "outputId": "1923dee1-6e32-4848-b0f3-396e3aa519ea"
      },
      "source": [
        "plt.imshow(digit.images[0])"
      ],
      "execution_count": 11,
      "outputs": [
        {
          "output_type": "execute_result",
          "data": {
            "text/plain": [
              "<matplotlib.image.AxesImage at 0x7f7adb694278>"
            ]
          },
          "metadata": {
            "tags": []
          },
          "execution_count": 11
        },
        {
          "output_type": "display_data",
          "data": {
            "image/png": "[encoded data removed]",
            "text/plain": [
              "<Figure size 432x288 with 1 Axes>"
            ]
          },
          "metadata": {
            "tags": []
          }
        }
      ]
    },
    {
      "cell_type": "code",
      "metadata": {
        "id": "iQj5SKaN3ZF0",
        "colab_type": "code",
        "colab": {}
      },
      "source": [
        "# now calling SVC\n",
        "from sklearn.svm import SVC"
      ],
      "execution_count": 0,
      "outputs": []
    },
    {
      "cell_type": "code",
      "metadata": {
        "id": "YGWsnRSW3dee",
        "colab_type": "code",
        "colab": {}
      },
      "source": [
        "# calling clf\n",
        "clf=SVC()"
      ],
      "execution_count": 0,
      "outputs": []
    },
    {
      "cell_type": "code",
      "metadata": {
        "id": "PhluGhOl3gU_",
        "colab_type": "code",
        "colab": {
          "base_uri": "https://localhost:8080/",
          "height": 72
        },
        "outputId": "c37c703b-80a2-468f-c734-f27e9ce2e84c"
      },
      "source": [
        "# now training my clf\n",
        "trained=clf.fit(X,Y)"
      ],
      "execution_count": 14,
      "outputs": [
        {
          "output_type": "stream",
          "text": [
            "/usr/local/lib/python3.6/dist-packages/sklearn/svm/base.py:193: FutureWarning: The default value of gamma will change from 'auto' to 'scale' in version 0.22 to account better for unscaled features. Set gamma explicitly to 'auto' or 'scale' to avoid this warning.\n",
            "  \"avoid this warning.\", FutureWarning)\n"
          ],
          "name": "stderr"
        }
      ]
    },
    {
      "cell_type": "code",
      "metadata": {
        "id": "SUeaHVH33i2J",
        "colab_type": "code",
        "colab": {}
      },
      "source": [
        "# now time for prediction \n",
        "output=trained.predict(x)"
      ],
      "execution_count": 0,
      "outputs": []
    },
    {
      "cell_type": "code",
      "metadata": {
        "id": "qn5-edtD3mDZ",
        "colab_type": "code",
        "colab": {
          "base_uri": "https://localhost:8080/",
          "height": 312
        },
        "outputId": "6dd2ace3-2344-4b1a-d96a-0cd4209fb635"
      },
      "source": [
        "output"
      ],
      "execution_count": 16,
      "outputs": [
        {
          "output_type": "execute_result",
          "data": {
            "text/plain": [
              "array([9, 9, 9, 9, 9, 9, 4, 4, 9, 3, 9, 4, 9, 9, 9, 9, 3, 9, 9, 9, 9, 7,\n",
              "       1, 9, 9, 5, 9, 0, 9, 9, 9, 5, 9, 1, 9, 9, 3, 2, 6, 9, 9, 9, 6, 0,\n",
              "       1, 9, 9, 9, 9, 9, 1, 9, 1, 0, 9, 9, 9, 9, 9, 4, 5, 9, 9, 7, 9, 4,\n",
              "       9, 7, 5, 9, 6, 9, 9, 9, 7, 9, 9, 9, 9, 3, 4, 9, 9, 7, 1, 1, 9, 1,\n",
              "       9, 0, 0, 9, 9, 1, 9, 9, 9, 3, 9, 9, 3, 0, 7, 6, 9, 4, 9, 9, 9, 2,\n",
              "       9, 9, 9, 5, 9, 9, 6, 9, 0, 9, 9, 9, 9, 9, 9, 5, 9, 6, 9, 5, 9, 9,\n",
              "       9, 9, 3, 3, 0, 9, 6, 0, 7, 9, 6, 9, 4, 4, 9, 9, 3, 9, 9, 6, 3, 9,\n",
              "       9, 9, 9, 9, 9, 9, 3, 9, 9, 7, 9, 4, 9, 9, 9, 9, 9, 9, 5, 9, 9, 9,\n",
              "       9, 6, 2, 9, 9, 9, 9, 9, 9, 9, 9, 9, 9, 9, 9, 4, 9, 6, 1, 5, 4, 9,\n",
              "       5, 9, 9, 9, 9, 9, 9, 1, 5, 9, 0, 3, 9, 9, 3, 0, 9, 4, 9, 5, 9, 7,\n",
              "       9, 6, 1, 4, 9, 3, 9, 2, 9, 5, 9, 7, 9, 4, 1, 9, 0, 9, 6, 9, 1, 9,\n",
              "       9, 9, 6, 3, 4, 2, 9, 5, 9, 9, 9, 9, 9, 6, 9, 9, 3, 9, 3, 3, 2, 9,\n",
              "       9, 9, 9, 1, 9, 4, 0, 5, 9, 9, 6, 9, 9, 9, 9, 9, 9, 9, 9, 0, 9, 6,\n",
              "       6, 1, 5, 9, 9, 3, 4, 7, 4, 9, 3, 9, 9, 9, 3, 3, 1, 9, 9, 9, 9, 9,\n",
              "       9, 1, 7, 3, 4, 5, 9, 0, 5, 5, 9, 9, 9, 6, 0, 5, 7, 9, 9, 4, 9, 9,\n",
              "       6, 2, 9, 0, 9, 6, 9, 9, 9, 4, 9, 9, 9, 9, 2, 9, 1, 5, 3, 9, 9, 5,\n",
              "       2, 9, 5, 2, 3, 2, 9, 0])"
            ]
          },
          "metadata": {
            "tags": []
          },
          "execution_count": 16
        }
      ]
    },
    {
      "cell_type": "code",
      "metadata": {
        "id": "wvV3AXDV3oR-",
        "colab_type": "code",
        "colab": {
          "base_uri": "https://localhost:8080/",
          "height": 312
        },
        "outputId": "3012854f-0774-46d5-8881-ebf66206c516"
      },
      "source": [
        "y"
      ],
      "execution_count": 17,
      "outputs": [
        {
          "output_type": "execute_result",
          "data": {
            "text/plain": [
              "array([7, 5, 4, 0, 6, 0, 4, 4, 5, 3, 8, 4, 6, 9, 3, 2, 3, 1, 9, 9, 7, 7,\n",
              "       1, 9, 8, 5, 2, 0, 7, 6, 0, 5, 8, 1, 9, 7, 3, 2, 6, 8, 8, 9, 6, 0,\n",
              "       1, 5, 9, 2, 6, 8, 1, 6, 1, 0, 8, 9, 2, 0, 6, 4, 5, 6, 8, 7, 9, 4,\n",
              "       7, 7, 5, 8, 6, 6, 5, 8, 7, 8, 9, 0, 7, 3, 4, 9, 7, 7, 1, 1, 8, 1,\n",
              "       3, 0, 0, 3, 4, 1, 7, 2, 5, 3, 6, 7, 3, 0, 7, 6, 8, 4, 0, 2, 8, 2,\n",
              "       8, 6, 6, 5, 9, 4, 6, 6, 0, 1, 2, 9, 9, 1, 5, 5, 8, 6, 1, 5, 8, 7,\n",
              "       6, 2, 3, 3, 0, 4, 6, 0, 7, 2, 6, 0, 4, 4, 7, 2, 3, 7, 5, 6, 3, 8,\n",
              "       2, 7, 8, 2, 8, 9, 3, 5, 9, 7, 8, 4, 9, 9, 2, 9, 7, 8, 5, 5, 6, 4,\n",
              "       6, 6, 2, 7, 9, 6, 6, 0, 9, 8, 4, 0, 2, 2, 6, 4, 2, 6, 1, 5, 4, 1,\n",
              "       5, 6, 2, 8, 4, 7, 9, 1, 5, 8, 0, 3, 7, 4, 3, 0, 8, 4, 0, 5, 2, 7,\n",
              "       2, 6, 1, 4, 4, 3, 8, 2, 4, 5, 2, 7, 2, 4, 1, 8, 0, 2, 6, 9, 1, 9,\n",
              "       8, 8, 6, 3, 4, 2, 8, 5, 1, 8, 5, 7, 0, 6, 7, 8, 3, 3, 3, 3, 2, 9,\n",
              "       5, 8, 9, 1, 1, 4, 0, 5, 3, 2, 6, 8, 9, 8, 5, 6, 8, 3, 9, 0, 1, 6,\n",
              "       6, 1, 5, 3, 8, 3, 4, 7, 4, 6, 3, 4, 3, 5, 3, 3, 1, 5, 3, 8, 8, 7,\n",
              "       7, 1, 7, 3, 4, 5, 2, 0, 5, 5, 2, 2, 7, 6, 0, 5, 7, 6, 6, 4, 8, 3,\n",
              "       6, 2, 8, 0, 6, 6, 4, 8, 8, 4, 9, 2, 7, 9, 2, 8, 1, 5, 3, 8, 6, 5,\n",
              "       2, 6, 5, 2, 3, 2, 9, 0])"
            ]
          },
          "metadata": {
            "tags": []
          },
          "execution_count": 17
        }
      ]
    },
    {
      "cell_type": "code",
      "metadata": {
        "id": "E7U-XJNo3qk5",
        "colab_type": "code",
        "colab": {}
      },
      "source": [
        "from sklearn.metrics import accuracy_score"
      ],
      "execution_count": 0,
      "outputs": []
    },
    {
      "cell_type": "code",
      "metadata": {
        "id": "M5JeifIA3s0X",
        "colab_type": "code",
        "colab": {
          "base_uri": "https://localhost:8080/",
          "height": 34
        },
        "outputId": "6118c0d3-41c7-4539-edb0-5fe83d1c7ba6"
      },
      "source": [
        "accuracy_score(output,y)"
      ],
      "execution_count": 19,
      "outputs": [
        {
          "output_type": "execute_result",
          "data": {
            "text/plain": [
              "0.5083333333333333"
            ]
          },
          "metadata": {
            "tags": []
          },
          "execution_count": 19
        }
      ]
    },
    {
      "cell_type": "code",
      "metadata": {
        "id": "rZKY1a7A3u7Q",
        "colab_type": "code",
        "colab": {}
      },
      "source": [
        ""
      ],
      "execution_count": 0,
      "outputs": []
    }
  ]
}