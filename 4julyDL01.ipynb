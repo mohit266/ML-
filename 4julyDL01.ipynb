{
  "nbformat": 4,
  "nbformat_minor": 0,
  "metadata": {
    "colab": {
      "name": "4julyDL01.ipynb",
      "version": "0.3.2",
      "provenance": [],
      "collapsed_sections": []
    },
    "kernelspec": {
      "name": "python3",
      "display_name": "Python 3"
    }
  },
  "cells": [
    {
      "cell_type": "markdown",
      "metadata": {
        "id": "ZJdj4GJBestA",
        "colab_type": "text"
      },
      "source": [
        "# Lemmatization"
      ]
    },
    {
      "cell_type": "code",
      "metadata": {
        "id": "i0v6Kvlhef0m",
        "colab_type": "code",
        "colab": {}
      },
      "source": [
        "import spacy"
      ],
      "execution_count": 0,
      "outputs": []
    },
    {
      "cell_type": "code",
      "metadata": {
        "id": "WYcMSa-qehmt",
        "colab_type": "code",
        "colab": {}
      },
      "source": [
        "# language eng ---\n",
        "nlp=spacy.load('en')"
      ],
      "execution_count": 0,
      "outputs": []
    },
    {
      "cell_type": "code",
      "metadata": {
        "id": "TdO997bDeqEx",
        "colab_type": "code",
        "colab": {}
      },
      "source": [
        "data=\"hello world i am going outside for playing cricket\""
      ],
      "execution_count": 0,
      "outputs": []
    },
    {
      "cell_type": "code",
      "metadata": {
        "id": "-yUaD3m8fL3E",
        "colab_type": "code",
        "colab": {}
      },
      "source": [
        "new_data=nlp(data)  # automatic tokenize"
      ],
      "execution_count": 0,
      "outputs": []
    },
    {
      "cell_type": "code",
      "metadata": {
        "id": "jhfqp3ckfQL1",
        "colab_type": "code",
        "outputId": "b780654a-0af0-403a-ad94-f682d2a295fe",
        "colab": {
          "base_uri": "https://localhost:8080/",
          "height": 470
        }
      },
      "source": [
        "for i in new_data:\n",
        "  print(i,\"lemmatization of word is -->\",i.lemma_)\n",
        "  print(\"#########################\")\n",
        "  print(i,\"POS\",i.pos_)"
      ],
      "execution_count": 0,
      "outputs": [
        {
          "output_type": "stream",
          "text": [
            "hello lemmatization of word is --> hello\n",
            "#########################\n",
            "hello POS INTJ\n",
            "world lemmatization of word is --> world\n",
            "#########################\n",
            "world POS NOUN\n",
            "i lemmatization of word is --> i\n",
            "#########################\n",
            "i POS PRON\n",
            "am lemmatization of word is --> be\n",
            "#########################\n",
            "am POS VERB\n",
            "going lemmatization of word is --> go\n",
            "#########################\n",
            "going POS VERB\n",
            "outside lemmatization of word is --> outside\n",
            "#########################\n",
            "outside POS ADV\n",
            "for lemmatization of word is --> for\n",
            "#########################\n",
            "for POS ADP\n",
            "playing lemmatization of word is --> play\n",
            "#########################\n",
            "playing POS VERB\n",
            "cricket lemmatization of word is --> cricket\n",
            "#########################\n",
            "cricket POS NOUN\n"
          ],
          "name": "stdout"
        }
      ]
    },
    {
      "cell_type": "code",
      "metadata": {
        "id": "_rW5wciXfXiV",
        "colab_type": "code",
        "colab": {}
      },
      "source": [
        ""
      ],
      "execution_count": 0,
      "outputs": []
    }
  ]
}