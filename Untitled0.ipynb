{
  "nbformat": 4,
  "nbformat_minor": 0,
  "metadata": {
    "colab": {
      "name": "Untitled0.ipynb",
      "version": "0.3.2",
      "provenance": [],
      "collapsed_sections": [],
      "include_colab_link": true
    },
    "kernelspec": {
      "name": "python3",
      "display_name": "Python 3"
    }
  },
  "cells": [
    {
      "cell_type": "markdown",
      "metadata": {
        "id": "view-in-github",
        "colab_type": "text"
      },
      "source": [
        "<a href=\"https://colab.research.google.com/github/mohit266/ML-/blob/Computer_Vision/Untitled0.ipynb\" target=\"_parent\"><img src=\"https://colab.research.google.com/assets/colab-badge.svg\" alt=\"Open In Colab\"/></a>"
      ]
    },
    {
      "cell_type": "code",
      "metadata": {
        "id": "7jds4fuBgbXn",
        "colab_type": "code",
        "colab": {}
      },
      "source": [
        "import smtplib"
      ],
      "execution_count": 0,
      "outputs": []
    },
    {
      "cell_type": "code",
      "metadata": {
        "id": "3qC3ofQfginw",
        "colab_type": "code",
        "colab": {}
      },
      "source": [
        "host = \"smtp.gmail.com\"\n",
        "port = 587\n",
        "username = \"imhungry@gmail.com\"\n",
        "password = \"imhungry2016\"\n",
        "#from_email = username\n",
        "#to_list = [\"manik9667@gmail.com\"]\n",
        "\n",
        "email_conn = smtplib.SMTP(host, port)\n",
        "email_conn.ehlo()\n",
        "email_conn.starttls()\n",
        "email_conn.login(username, password)\n",
        "#email_conn.sendmail(from_email, to_list, \"Hello there this is an email message\")\n",
        "#email_conn.quit()"
      ],
      "execution_count": 0,
      "outputs": []
    },
    {
      "cell_type": "code",
      "metadata": {
        "id": "aNShZ6E6W-Fl",
        "colab_type": "code",
        "colab": {}
      },
      "source": [
        "from smtplib import SMTP"
      ],
      "execution_count": 0,
      "outputs": []
    },
    {
      "cell_type": "code",
      "metadata": {
        "id": "HHL2f0WnbpdL",
        "colab_type": "code",
        "colab": {}
      },
      "source": [
        "ABC = SMTP(host, port)\n",
        "ABC.ehlo()\n",
        "ABC.starttls()\n",
        "ABC.login(username, password)\n",
        "ABC.sendmail(from_email, to_list, \"Hello there this is an email message\")\n",
        "ABC.quit()\n",
        "\n"
      ],
      "execution_count": 0,
      "outputs": []
    },
    {
      "cell_type": "code",
      "metadata": {
        "id": "WImQkWOUbudj",
        "colab_type": "code",
        "colab": {}
      },
      "source": [
        "from smtplib import SMTP, SMTPAuthenticationError, SMTPException"
      ],
      "execution_count": 0,
      "outputs": []
    },
    {
      "cell_type": "code",
      "metadata": {
        "id": "LI-bt5Zkb2nx",
        "colab_type": "code",
        "outputId": "53747e7e-e480-4376-8e79-d29f0f98758d",
        "colab": {
          "base_uri": "https://localhost:8080/",
          "height": 231
        }
      },
      "source": [
        "pass_wrong = SMTP(host, port)\n",
        "pass_wrong.ehlo()\n",
        "pass_wrong.starttls()\n",
        "try:\n",
        "    pass_wrong.login(username, \"wrong_password\")\n",
        "    pass_wrong.sendmail(from_email, to_list, \"Hello there this is an email message\")\n",
        "except SMTPAuthenticationError:\n",
        "    print(\"Could not login\")\n",
        "except:\n",
        "    print(\"an error occured\")\n",
        "\n",
        "pass_wrong.quit()\n"
      ],
      "execution_count": 0,
      "outputs": [
        {
          "output_type": "error",
          "ename": "NameError",
          "evalue": "ignored",
          "traceback": [
            "\u001b[0;31m---------------------------------------------------------------------------\u001b[0m",
            "\u001b[0;31mNameError\u001b[0m                                 Traceback (most recent call last)",
            "\u001b[0;32m<ipython-input-1-0ddb62d77cee>\u001b[0m in \u001b[0;36m<module>\u001b[0;34m()\u001b[0m\n\u001b[0;32m----> 1\u001b[0;31m \u001b[0mpass_wrong\u001b[0m \u001b[0;34m=\u001b[0m \u001b[0mSMTP\u001b[0m\u001b[0;34m(\u001b[0m\u001b[0mhost\u001b[0m\u001b[0;34m,\u001b[0m \u001b[0mport\u001b[0m\u001b[0;34m)\u001b[0m\u001b[0;34m\u001b[0m\u001b[0;34m\u001b[0m\u001b[0m\n\u001b[0m\u001b[1;32m      2\u001b[0m \u001b[0mpass_wrong\u001b[0m\u001b[0;34m.\u001b[0m\u001b[0mehlo\u001b[0m\u001b[0;34m(\u001b[0m\u001b[0;34m)\u001b[0m\u001b[0;34m\u001b[0m\u001b[0;34m\u001b[0m\u001b[0m\n\u001b[1;32m      3\u001b[0m \u001b[0mpass_wrong\u001b[0m\u001b[0;34m.\u001b[0m\u001b[0mstarttls\u001b[0m\u001b[0;34m(\u001b[0m\u001b[0;34m)\u001b[0m\u001b[0;34m\u001b[0m\u001b[0;34m\u001b[0m\u001b[0m\n\u001b[1;32m      4\u001b[0m \u001b[0;32mtry\u001b[0m\u001b[0;34m:\u001b[0m\u001b[0;34m\u001b[0m\u001b[0;34m\u001b[0m\u001b[0m\n\u001b[1;32m      5\u001b[0m     \u001b[0mpass_wrong\u001b[0m\u001b[0;34m.\u001b[0m\u001b[0mlogin\u001b[0m\u001b[0;34m(\u001b[0m\u001b[0musername\u001b[0m\u001b[0;34m,\u001b[0m \u001b[0;34m\"wrong_password\"\u001b[0m\u001b[0;34m)\u001b[0m\u001b[0;34m\u001b[0m\u001b[0;34m\u001b[0m\u001b[0m\n",
            "\u001b[0;31mNameError\u001b[0m: name 'SMTP' is not defined"
          ]
        }
      ]
    },
    {
      "cell_type": "code",
      "metadata": {
        "id": "ZPM_VHpsb56O",
        "colab_type": "code",
        "colab": {}
      },
      "source": [
        ""
      ],
      "execution_count": 0,
      "outputs": []
    }
  ]
}