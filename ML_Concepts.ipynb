{
  "nbformat": 4,
  "nbformat_minor": 0,
  "metadata": {
    "colab": {
      "name": "ML_Concepts.ipynb",
      "version": "0.3.2",
      "provenance": [],
      "collapsed_sections": []
    },
    "kernelspec": {
      "name": "python3",
      "display_name": "Python 3"
    }
  },
  "cells": [
    {
      "cell_type": "markdown",
      "metadata": {
        "id": "U5FhTSlLgdNC",
        "colab_type": "text"
      },
      "source": [
        "     Machine Learning Class\n",
        "\n",
        "*    To draw a scatter chart we use plt.scatter()\n",
        "*  To draw a pie chart we use plt.pie()\n"
      ]
    },
    {
      "cell_type": "code",
      "metadata": {
        "id": "yJX5ZI6D9Y3E",
        "colab_type": "code",
        "colab": {}
      },
      "source": [
        "plt.pie(runs,labels=player,explode=exp,shadow=True,autopct='%1.1%')\n",
        "plt.grid(color='green')\n",
        "plt.show()"
      ],
      "execution_count": 0,
      "outputs": []
    },
    {
      "cell_type": "markdown",
      "metadata": {
        "id": "dpRuOCpCiHxB",
        "colab_type": "text"
      },
      "source": [
        "\n",
        " *   CSV (Comma Seperated Values)\n",
        " *   Pandas is a liberary used for data processing.\n",
        " *   To read a csv file in pandas\n",
        " *   Here data readed by pandas is called as dataframe.\n",
        " *   Data Frame is a structure developed by pandas it converts any type of data to pandas data frame  using read_csv.\n"
      ]
    },
    {
      "cell_type": "code",
      "metadata": {
        "id": "e-vXmYVHiZGh",
        "colab_type": "code",
        "colab": {}
      },
      "source": [
        "import pandas as pd\n",
        "df = pd.read_csv('com.csv')\n",
        "df1 = pd.read_csv('http://13.234.66.67/summer19/datasets/com.csv')"
      ],
      "execution_count": 0,
      "outputs": []
    },
    {
      "cell_type": "markdown",
      "metadata": {
        "id": "CvkZP-Z2ig1b",
        "colab_type": "text"
      },
      "source": [
        "* Now if I need to see the structure of use the function df.info()"
      ]
    },
    {
      "cell_type": "code",
      "metadata": {
        "id": "PZuacJ7Bib6J",
        "colab_type": "code",
        "colab": {}
      },
      "source": [
        "df.info()"
      ],
      "execution_count": 0,
      "outputs": []
    },
    {
      "cell_type": "markdown",
      "metadata": {
        "id": "0er4-mQQirkc",
        "colab_type": "text"
      },
      "source": [
        "*  Now If I need to print all the data"
      ]
    },
    {
      "cell_type": "code",
      "metadata": {
        "id": "ITm_jkxIivyq",
        "colab_type": "code",
        "colab": {}
      },
      "source": [
        "print(df)"
      ],
      "execution_count": 0,
      "outputs": []
    },
    {
      "cell_type": "markdown",
      "metadata": {
        "id": "eWUPeFgRiyfy",
        "colab_type": "text"
      },
      "source": [
        "\n",
        " *  Now If I say I just need top 3 rows then use head function\n"
      ]
    },
    {
      "cell_type": "code",
      "metadata": {
        "id": "66x2MEJli2jN",
        "colab_type": "code",
        "colab": {}
      },
      "source": [
        "df.head(3)"
      ],
      "execution_count": 0,
      "outputs": []
    },
    {
      "cell_type": "markdown",
      "metadata": {
        "id": "sbbYWmDki5wk",
        "colab_type": "text"
      },
      "source": [
        "\n",
        "*   Now If I say I just need bottom 3 rows then use tail function\n"
      ]
    },
    {
      "cell_type": "code",
      "metadata": {
        "id": "8rshowu7i-w7",
        "colab_type": "code",
        "colab": {}
      },
      "source": [
        "df.tail(3)"
      ],
      "execution_count": 0,
      "outputs": []
    },
    {
      "cell_type": "markdown",
      "metadata": {
        "id": "paN6c43JjCq6",
        "colab_type": "text"
      },
      "source": [
        "\n",
        "*   Now if we need a specific column or such you can specify the column name in df\n"
      ]
    },
    {
      "cell_type": "code",
      "metadata": {
        "id": "5nSJDZwzjFWk",
        "colab_type": "code",
        "colab": {}
      },
      "source": [
        "df.['Name']"
      ],
      "execution_count": 0,
      "outputs": []
    },
    {
      "cell_type": "markdown",
      "metadata": {
        "id": "jmIL9Sy8jSaL",
        "colab_type": "text"
      },
      "source": [
        "\n",
        " *  For selecting rows and columns we have a function called\n"
      ]
    },
    {
      "cell_type": "code",
      "metadata": {
        "id": "yL2pgwtfjOlg",
        "colab_type": "code",
        "colab": {}
      },
      "source": [
        "df.iloc[0:,0]"
      ],
      "execution_count": 0,
      "outputs": []
    },
    {
      "cell_type": "markdown",
      "metadata": {
        "id": "uAYA4vm_jWUK",
        "colab_type": "text"
      },
      "source": [
        "\n",
        "*   To get max min avg mean value from a column\n"
      ]
    },
    {
      "cell_type": "code",
      "metadata": {
        "id": "KULO4ffrjYsn",
        "colab_type": "code",
        "colab": {}
      },
      "source": [
        "df['Salary'].max()\n",
        "df['Salary'].min()\n",
        "df['Salary'].mean()\n",
        "df['Salary'].avg()"
      ],
      "execution_count": 0,
      "outputs": []
    }
  ]
}