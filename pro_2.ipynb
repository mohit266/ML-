{
  "nbformat": 4,
  "nbformat_minor": 0,
  "metadata": {
    "colab": {
      "name": "pro 2",
      "version": "0.3.2",
      "provenance": [],
      "collapsed_sections": [],
      "include_colab_link": true
    },
    "kernelspec": {
      "name": "python3",
      "display_name": "Python 3"
    }
  },
  "cells": [
    {
      "cell_type": "markdown",
      "metadata": {
        "id": "view-in-github",
        "colab_type": "text"
      },
      "source": [
        "<a href=\"https://colab.research.google.com/github/mohit266/ML-/blob/master/pro_2.ipynb\" target=\"_parent\"><img src=\"https://colab.research.google.com/assets/colab-badge.svg\" alt=\"Open In Colab\"/></a>"
      ]
    },
    {
      "cell_type": "code",
      "metadata": {
        "id": "LuQiTVb3TYhO",
        "colab_type": "code",
        "colab": {}
      },
      "source": [
        "import matplotlib"
      ],
      "execution_count": 0,
      "outputs": []
    },
    {
      "cell_type": "code",
      "metadata": {
        "id": "l3DMGTGgyTqG",
        "colab_type": "code",
        "colab": {}
      },
      "source": [
        ""
      ],
      "execution_count": 0,
      "outputs": []
    },
    {
      "cell_type": "code",
      "metadata": {
        "id": "CUGA6YYTTc6j",
        "colab_type": "code",
        "colab": {}
      },
      "source": [
        "!pip3 install numpy\n"
      ],
      "execution_count": 0,
      "outputs": []
    },
    {
      "cell_type": "code",
      "metadata": {
        "id": "sRy9CaDATyMH",
        "colab_type": "code",
        "colab": {}
      },
      "source": [
        "!pip3 install YouTube\n",
        "\n"
      ],
      "execution_count": 0,
      "outputs": []
    },
    {
      "cell_type": "code",
      "metadata": {
        "id": "6OmCV6zNT14y",
        "colab_type": "code",
        "colab": {}
      },
      "source": [
        "import matplotlib.pyplot as plt\n",
        "# Only loading python oriented library\n",
        "x=[2,3]\n",
        "x1=[4,3,8]\n",
        "y1=[2,9,7]\n",
        "y=[9,5]\n",
        "plt.xlabel(\"time\")\n",
        "plt.ylabel(\"speed\")\n",
        "plt.plot(x,y,label=\"water\") # This will draw a straight line\n",
        "plt.plot(x1,y1,label=\"sand\")\n",
        "plt.bar(x1,y1)\n",
        "plt.bar(x,y)\n",
        "plt.grid(color='green')\n",
        "plt.legend()   # To show labels with plot\n",
        "plt.xlim(0,12) # To show min and max number in x-axis\n",
        "plt.ylim(0,15) # To show min and max number in y-axis\n",
        "plt.show()\n",
        "\n",
        "\n"
      ],
      "execution_count": 0,
      "outputs": []
    },
    {
      "cell_type": "code",
      "metadata": {
        "id": "QkLpIuSbUFeW",
        "colab_type": "code",
        "colab": {}
      },
      "source": [
        ""
      ],
      "execution_count": 0,
      "outputs": []
    }
  ]
}