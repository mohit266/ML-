{
  "nbformat": 4,
  "nbformat_minor": 0,
  "metadata": {
    "colab": {
      "name": "22juneSML01.ipynb",
      "version": "0.3.2",
      "provenance": [],
      "collapsed_sections": [],
      "include_colab_link": true
    },
    "kernelspec": {
      "name": "python3",
      "display_name": "Python 3"
    }
  },
  "cells": [
    {
      "cell_type": "markdown",
      "metadata": {
        "id": "view-in-github",
        "colab_type": "text"
      },
      "source": [
        "<a href=\"https://colab.research.google.com/github/mohit266/ML-/blob/Supervised_ML/22juneSML01.ipynb\" target=\"_parent\"><img src=\"https://colab.research.google.com/assets/colab-badge.svg\" alt=\"Open In Colab\"/></a>"
      ]
    },
    {
      "cell_type": "code",
      "metadata": {
        "id": "IfwH56LbxjV1",
        "colab_type": "code",
        "colab": {}
      },
      "source": [
        "# loading iris data set\n",
        "from sklearn.datasets import load_iris"
      ],
      "execution_count": 0,
      "outputs": []
    },
    {
      "cell_type": "code",
      "metadata": {
        "id": "n1eKZSxCxkvO",
        "colab_type": "code",
        "colab": {}
      },
      "source": [
        "# loading into a variable\n",
        "iris_data=load_iris()"
      ],
      "execution_count": 0,
      "outputs": []
    },
    {
      "cell_type": "code",
      "metadata": {
        "id": "EHmdmrdBgIGX",
        "colab_type": "code",
        "colab": {
          "base_uri": "https://localhost:8080/",
          "height": 34
        },
        "outputId": "7a756f96-838c-4469-96e5-58eb32b622e4"
      },
      "source": [
        "# Describing iris data internally\n",
        "dir(iris_data)"
      ],
      "execution_count": 11,
      "outputs": [
        {
          "output_type": "execute_result",
          "data": {
            "text/plain": [
              "['DESCR', 'data', 'feature_names', 'filename', 'target', 'target_names']"
            ]
          },
          "metadata": {
            "tags": []
          },
          "execution_count": 11
        }
      ]
    },
    {
      "cell_type": "code",
      "metadata": {
        "id": "Hkj7s8RpgKMO",
        "colab_type": "code",
        "colab": {
          "base_uri": "https://localhost:8080/",
          "height": 34
        },
        "outputId": "ea3e4a55-678e-479b-cc09-9d841326d5db"
      },
      "source": [
        "#target output values --\n",
        "iris_data.target_names"
      ],
      "execution_count": 13,
      "outputs": [
        {
          "output_type": "execute_result",
          "data": {
            "text/plain": [
              "array(['setosa', 'versicolor', 'virginica'], dtype='<U10')"
            ]
          },
          "metadata": {
            "tags": []
          },
          "execution_count": 13
        }
      ]
    },
    {
      "cell_type": "code",
      "metadata": {
        "id": "HkX3E2wvg6zS",
        "colab_type": "code",
        "colab": {
          "base_uri": "https://localhost:8080/",
          "height": 86
        },
        "outputId": "161dc8b1-597b-4087-f9c3-0abfed479dc0"
      },
      "source": [
        "#now attribute of features of given data\n",
        "iris_data.feature_names"
      ],
      "execution_count": 15,
      "outputs": [
        {
          "output_type": "execute_result",
          "data": {
            "text/plain": [
              "['sepal length (cm)',\n",
              " 'sepal width (cm)',\n",
              " 'petal length (cm)',\n",
              " 'petal width (cm)']"
            ]
          },
          "metadata": {
            "tags": []
          },
          "execution_count": 15
        }
      ]
    },
    {
      "cell_type": "code",
      "metadata": {
        "id": "j1RhGtr0hKQD",
        "colab_type": "code",
        "colab": {}
      },
      "source": [
        "#data wit attributes\n",
        "iris_features=iris_data.data"
      ],
      "execution_count": 0,
      "outputs": []
    },
    {
      "cell_type": "code",
      "metadata": {
        "id": "4TO4X6VnhUBt",
        "colab_type": "code",
        "colab": {}
      },
      "source": [
        "#extracting labels as per features\n",
        "label=iris_data.target"
      ],
      "execution_count": 0,
      "outputs": []
    },
    {
      "cell_type": "markdown",
      "metadata": {
        "id": "EkY2tNPMhgck",
        "colab_type": "text"
      },
      "source": [
        "Showing graph"
      ]
    },
    {
      "cell_type": "code",
      "metadata": {
        "id": "DYmTO0ymhcuV",
        "colab_type": "code",
        "colab": {}
      },
      "source": [
        "# put your code for graphs"
      ],
      "execution_count": 0,
      "outputs": []
    },
    {
      "cell_type": "code",
      "metadata": {
        "id": "wtQyU3KVhmb-",
        "colab_type": "code",
        "colab": {}
      },
      "source": [
        "# sep data into training and testing\n",
        "from sklearn.model_selection import train_test_split"
      ],
      "execution_count": 0,
      "outputs": []
    },
    {
      "cell_type": "code",
      "metadata": {
        "id": "w8JWab0jh_NY",
        "colab_type": "code",
        "colab": {}
      },
      "source": [
        "#help(train_test_split)\n",
        "train_data,test_data,train_label,test_label=train_test_split(iris_features,label,test_size=0.2,random_state=0)"
      ],
      "execution_count": 0,
      "outputs": []
    },
    {
      "cell_type": "code",
      "metadata": {
        "id": "ChQDtW_Pi9pz",
        "colab_type": "code",
        "colab": {}
      },
      "source": [
        "# importing KNN clf\n",
        "from sklearn.neighbors import KNeighborsClassifier"
      ],
      "execution_count": 0,
      "outputs": []
    },
    {
      "cell_type": "code",
      "metadata": {
        "id": "ypf4b2MwkVK0",
        "colab_type": "code",
        "colab": {}
      },
      "source": [
        "# now calling KNN\n",
        "kclf=KNeighborsClassifier(n_neighbors=5) # this is by default valueof k"
      ],
      "execution_count": 0,
      "outputs": []
    },
    {
      "cell_type": "code",
      "metadata": {
        "id": "rdmuO2VXkpxd",
        "colab_type": "code",
        "colab": {}
      },
      "source": [
        "# applying training data\n",
        "ktrained=kclf.fit(train_data,train_label)"
      ],
      "execution_count": 0,
      "outputs": []
    },
    {
      "cell_type": "code",
      "metadata": {
        "id": "u8q4lFAHlJPU",
        "colab_type": "code",
        "colab": {}
      },
      "source": [
        "# now time for prediction\n",
        "predict_output=ktrained.predict(test_data)"
      ],
      "execution_count": 0,
      "outputs": []
    },
    {
      "cell_type": "code",
      "metadata": {
        "id": "L7TUZaZklaET",
        "colab_type": "code",
        "colab": {
          "base_uri": "https://localhost:8080/",
          "height": 52
        },
        "outputId": "0fd9ad57-d61d-49c7-bd21-87681b4feab6"
      },
      "source": [
        "predict_output"
      ],
      "execution_count": 27,
      "outputs": [
        {
          "output_type": "execute_result",
          "data": {
            "text/plain": [
              "array([2, 1, 0, 2, 0, 2, 0, 1, 1, 1, 2, 1, 1, 1, 2, 0, 1, 1, 0, 0, 2, 1,\n",
              "       0, 0, 2, 0, 0, 1, 1, 0])"
            ]
          },
          "metadata": {
            "tags": []
          },
          "execution_count": 27
        }
      ]
    },
    {
      "cell_type": "code",
      "metadata": {
        "id": "jbk9dYCIlfFG",
        "colab_type": "code",
        "colab": {
          "base_uri": "https://localhost:8080/",
          "height": 52
        },
        "outputId": "7415ed88-03c7-4466-e76b-6cca4f95c2db"
      },
      "source": [
        "test_label"
      ],
      "execution_count": 28,
      "outputs": [
        {
          "output_type": "execute_result",
          "data": {
            "text/plain": [
              "array([2, 1, 0, 2, 0, 2, 0, 1, 1, 1, 2, 1, 1, 1, 1, 0, 1, 1, 0, 0, 2, 1,\n",
              "       0, 0, 2, 0, 0, 1, 1, 0])"
            ]
          },
          "metadata": {
            "tags": []
          },
          "execution_count": 28
        }
      ]
    },
    {
      "cell_type": "code",
      "metadata": {
        "id": "8wXk30UslhA6",
        "colab_type": "code",
        "colab": {}
      },
      "source": [
        "# calculating accuracy score\n",
        "from sklearn.metrics import accuracy_score"
      ],
      "execution_count": 0,
      "outputs": []
    },
    {
      "cell_type": "code",
      "metadata": {
        "id": "hjD1DZQmlu0Q",
        "colab_type": "code",
        "colab": {
          "base_uri": "https://localhost:8080/",
          "height": 34
        },
        "outputId": "f905c8d8-40af-430b-b627-7ca0bdb3ba70"
      },
      "source": [
        "accuracy_score(test_label,predict_output)"
      ],
      "execution_count": 30,
      "outputs": [
        {
          "output_type": "execute_result",
          "data": {
            "text/plain": [
              "0.9666666666666667"
            ]
          },
          "metadata": {
            "tags": []
          },
          "execution_count": 30
        }
      ]
    },
    {
      "cell_type": "code",
      "metadata": {
        "id": "Hj39lAnDlz7Z",
        "colab_type": "code",
        "colab": {}
      },
      "source": [
        "# calling decision tree clf\n",
        "from sklearn.tree import DecisionTreeClassifier\n",
        "dclf=DecisionTreeClassifier()"
      ],
      "execution_count": 0,
      "outputs": []
    },
    {
      "cell_type": "code",
      "metadata": {
        "id": "v2-4SM0ImLyI",
        "colab_type": "code",
        "colab": {}
      },
      "source": [
        "#training decision tree\n",
        "dtrained=dclf.fit(train_data,train_label)"
      ],
      "execution_count": 0,
      "outputs": []
    },
    {
      "cell_type": "code",
      "metadata": {
        "id": "BnJ-rLcPmarY",
        "colab_type": "code",
        "colab": {}
      },
      "source": [
        "# now predicting\n",
        "dprediction=dtrained.predict(test_data)"
      ],
      "execution_count": 0,
      "outputs": []
    },
    {
      "cell_type": "code",
      "metadata": {
        "id": "pgLvRzqjmnbA",
        "colab_type": "code",
        "colab": {}
      },
      "source": [
        "# now accuracy for decision\n",
        "dacr=accuracy_score(test_label,dprediction)"
      ],
      "execution_count": 0,
      "outputs": []
    },
    {
      "cell_type": "code",
      "metadata": {
        "id": "d8UVO7Dum04F",
        "colab_type": "code",
        "colab": {
          "base_uri": "https://localhost:8080/",
          "height": 34
        },
        "outputId": "bf7596bc-7d7a-4b34-8687-c4389d03c649"
      },
      "source": [
        "dacr"
      ],
      "execution_count": 39,
      "outputs": [
        {
          "output_type": "execute_result",
          "data": {
            "text/plain": [
              "1.0"
            ]
          },
          "metadata": {
            "tags": []
          },
          "execution_count": 39
        }
      ]
    },
    {
      "cell_type": "code",
      "metadata": {
        "id": "GCGGPln0m7Ye",
        "colab_type": "code",
        "colab": {}
      },
      "source": [
        "# compare decision and KNN\n",
        "import matplotlib.pyplot as plt"
      ],
      "execution_count": 0,
      "outputs": []
    }
  ]
}